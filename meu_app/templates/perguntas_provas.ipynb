{
 "cells": [
  {
   "cell_type": "code",
   "execution_count": null,
   "metadata": {},
   "outputs": [
    {
     "data": {
      "application/vnd.jupyter.widget-view+json": {
       "model_id": "bb4437e5157d413e9894fdde5a3ea7ec",
       "version_major": 2,
       "version_minor": 0
      },
      "text/plain": [
       "Text(value='', description='Qual é o seu nome?')"
      ]
     },
     "metadata": {},
     "output_type": "display_data"
    },
    {
     "data": {
      "application/vnd.jupyter.widget-view+json": {
       "model_id": "68b071bf0425486c8731ebc698931f9f",
       "version_major": 2,
       "version_minor": 0
      },
      "text/plain": [
       "Text(value='', description='Qual é o seu telefone?')"
      ]
     },
     "metadata": {},
     "output_type": "display_data"
    },
    {
     "data": {
      "application/vnd.jupyter.widget-view+json": {
       "model_id": "3d20ecafadbc48b8a8aa6aad6bcff517",
       "version_major": 2,
       "version_minor": 0
      },
      "text/plain": [
       "Text(value='', description='Qual é o seu endereço (rua, bairro e número)?')"
      ]
     },
     "metadata": {},
     "output_type": "display_data"
    },
    {
     "data": {
      "application/vnd.jupyter.widget-view+json": {
       "model_id": "3a562acf92414cb0b0cc020377007b67",
       "version_major": 2,
       "version_minor": 0
      },
      "text/plain": [
       "Button(description='Enviar Respostas', style=ButtonStyle())"
      ]
     },
     "metadata": {},
     "output_type": "display_data"
    }
   ],
   "source": [
    "import ipywidgets as widgets\n",
    "from IPython.display import display\n",
    "\n",
    "# Defina as perguntas\n",
    "perguntas = [\n",
    "    \"Qual é o seu nome?\",\n",
    "    \"Qual é o seu telefone?\",\n",
    "    \"Qual é o seu endereço (rua, bairro e número)?\"\n",
    "]\n",
    "\n",
    "# Crie um dicionário para armazenar as respostas\n",
    "respostas = {}\n",
    "\n",
    "# Crie widgets para cada pergunta e exiba-os\n",
    "for pergunta in perguntas:\n",
    "    resposta_widget = widgets.Text(description=pergunta)\n",
    "    display(resposta_widget)\n",
    "    \n",
    "    # Adicione o widget da resposta ao dicionário de respostas\n",
    "    respostas[pergunta] = resposta_widget\n",
    "\n",
    "# Botão para enviar as respostas\n",
    "botao_enviar = widgets.Button(description=\"Enviar Respostas\")\n",
    "\n",
    "# Função chamada ao clicar no botão\n",
    "def enviar_respostas(b):\n",
    "    for pergunta, widget in respostas.items():\n",
    "        print(f\"{pergunta}: {widget.value}\")\n",
    "\n",
    "# Associe a função ao evento de clique do botão\n",
    "botao_enviar.on_click(enviar_respostas)\n",
    "\n",
    "# Exiba o botão\n",
    "display(botao_enviar)\n",
    "\n"
   ]
  }
 ],
 "metadata": {
  "kernelspec": {
   "display_name": "env",
   "language": "python",
   "name": "python3"
  },
  "language_info": {
   "codemirror_mode": {
    "name": "ipython",
    "version": 3
   },
   "file_extension": ".py",
   "mimetype": "text/x-python",
   "name": "python",
   "nbconvert_exporter": "python",
   "pygments_lexer": "ipython3",
   "version": "3.10.12"
  }
 },
 "nbformat": 4,
 "nbformat_minor": 2
}
